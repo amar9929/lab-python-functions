{
 "cells": [
  {
   "cell_type": "markdown",
   "id": "25d7736c-ba17-4aff-b6bb-66eba20fbf4e",
   "metadata": {},
   "source": [
    "# Lab | Functions"
   ]
  },
  {
   "cell_type": "markdown",
   "id": "0c581062-8967-4d93-b06e-62833222f930",
   "metadata": {
    "tags": []
   },
   "source": [
    "## Exercise: Managing Customer Orders with Functions\n",
    "\n",
    "In the previous exercise, you improved the code for managing customer orders by using loops and flow control. Now, let's take it a step further and refactor the code by introducing functions.\n",
    "\n",
    "Follow the steps below to complete the exercise:\n",
    "\n",
    "1. Define a function named `initialize_inventory` that takes `products` as a parameter. Inside the function, implement the code for initializing the inventory dictionary using a loop and user input.\n",
    "\n",
    "2. Define a function named `get_customer_orders` that takes no parameters. Inside the function, implement the code for prompting the user to enter the product names using a loop. The function should return the `customer_orders` set.\n",
    "\n",
    "3. Define a function named `update_inventory` that takes `customer_orders` and `inventory` as parameters. Inside the function, implement the code for updating the inventory dictionary based on the customer orders.\n",
    "\n",
    "4. Define a function named `calculate_order_statistics` that takes `customer_orders` and `products` as parameters. Inside the function, implement the code for calculating the order statistics (total products ordered, and percentage of unique products ordered). The function should return these values.\n",
    "\n",
    "5. Define a function named `print_order_statistics` that takes `order_statistics` as a parameter. Inside the function, implement the code for printing the order statistics.\n",
    "\n",
    "6. Define a function named `print_updated_inventory` that takes `inventory` as a parameter. Inside the function, implement the code for printing the updated inventory.\n",
    "\n",
    "7. Call the functions in the appropriate sequence to execute the program and manage customer orders.\n",
    "\n",
    "Hints for functions:\n",
    "\n",
    "- Consider the input parameters required for each function and their return values.\n",
    "- Utilize function parameters and return values to transfer data between functions.\n",
    "- Test your functions individually to ensure they work correctly.\n",
    "\n",
    "\n"
   ]
  },
  {
   "cell_type": "code",
   "execution_count": 2,
   "id": "a5d8e44c",
   "metadata": {},
   "outputs": [],
   "source": [
    "products=[\"t-shirt\",'mug', \"hat\", \"book\", \"keychain\"]\n",
    "\n",
    "def initialize_inventory(products):\n",
    "    \"\"\"Sumary: Assigns amount of inventory to products\"\"\"\n",
    "    inventory={}\n",
    "    for prod in products:\n",
    "        inventory[prod]=int(input(f\"Please enter amount of product for {prod}s:\"))\n",
    "    return inventory\n",
    "\n",
    "    "
   ]
  },
  {
   "cell_type": "code",
   "execution_count": 3,
   "id": "b24da6c2",
   "metadata": {},
   "outputs": [
    {
     "name": "stdout",
     "output_type": "stream",
     "text": [
      "Please enter amount of product for t-shirts:6\n",
      "Please enter amount of product for mugs:7\n",
      "Please enter amount of product for hats:8\n",
      "Please enter amount of product for books:9\n",
      "Please enter amount of product for keychains:10\n"
     ]
    },
    {
     "data": {
      "text/plain": [
       "{'t-shirt': 6, 'mug': 7, 'hat': 8, 'book': 9, 'keychain': 10}"
      ]
     },
     "execution_count": 3,
     "metadata": {},
     "output_type": "execute_result"
    }
   ],
   "source": [
    "products=[\"t-shirt\",'mug', \"hat\", \"book\", \"keychain\"]\n",
    "inventory=initialize_inventory(products)\n",
    "inventory"
   ]
  },
  {
   "cell_type": "code",
   "execution_count": 4,
   "id": "3d4aecd8",
   "metadata": {},
   "outputs": [
    {
     "name": "stdout",
     "output_type": "stream",
     "text": [
      "Please enter desired product:mug\n",
      "Do you want to add another productt-shirt\n",
      "Please enter desired product:t-shirt\n",
      "Do you want to add another productno  \n"
     ]
    },
    {
     "data": {
      "text/plain": [
       "{'mug', 't-shirt'}"
      ]
     },
     "execution_count": 4,
     "metadata": {},
     "output_type": "execute_result"
    }
   ],
   "source": [
    "def get_cutomer_orders():\n",
    "    \"\"\"Summary:\"\"\"\n",
    "    customer_orders=set()\n",
    "    customer_orders.add(input(\"Please enter desired product:\"))\n",
    "    ask_customer=(input('Do you want to add another product'))\n",
    "    while not ask_customer.lower().strip()=='no':\n",
    "        customer_orders.add(input(\"Please enter desired product:\"))\n",
    "        ask_customer=(input('Do you want to add another product'))\n",
    "    return customer_orders\n",
    "customer_orders=get_cutomer_orders()\n",
    "customer_orders"
   ]
  },
  {
   "cell_type": "code",
   "execution_count": 7,
   "id": "b4ad7db2",
   "metadata": {},
   "outputs": [
    {
     "data": {
      "text/plain": [
       "{'t-shirt': 5, 'mug': 6, 'hat': 8, 'book': 9, 'keychain': 10}"
      ]
     },
     "execution_count": 7,
     "metadata": {},
     "output_type": "execute_result"
    }
   ],
   "source": [
    "def update_inventory( customer_orders, inventory):\n",
    "    \"\"\"Summary:\"\"\"\n",
    "    for prod in customer_orders:\n",
    "        if inventory.get(prod):\n",
    "            inventory[prod]-=1\n",
    "    return inventory\n",
    "    \n",
    "inventory=update_inventory(customer_orders, inventory)\n",
    "inventory"
   ]
  },
  {
   "cell_type": "code",
   "execution_count": null,
   "id": "d1527208",
   "metadata": {},
   "outputs": [],
   "source": []
  },
  {
   "cell_type": "code",
   "execution_count": 13,
   "id": "d0f510b7",
   "metadata": {},
   "outputs": [
    {
     "data": {
      "text/plain": [
       "40.0"
      ]
     },
     "execution_count": 13,
     "metadata": {},
     "output_type": "execute_result"
    }
   ],
   "source": [
    "def calculate_order_statistics(products,customer_orders):\n",
    "    \"\"\"Summary\"\"\"\n",
    "    products_ordered=len(customer_orders)\n",
    "    Percent_ordered=100*(len(customer_orders)/len(products))\n",
    "    return products_ordered,Percent_ordered\n",
    "\n",
    "order_statistics=calculate_order_statistics(products,customer_orders)\n",
    "order_statistics"
   ]
  },
  {
   "cell_type": "code",
   "execution_count": 17,
   "id": "6a02040b",
   "metadata": {},
   "outputs": [
    {
     "name": "stdout",
     "output_type": "stream",
     "text": [
      "The total number of unique products in the order were: 2\n",
      "The percentage of products ordered compared \n",
      "to the total unique products was: 40.0\n"
     ]
    }
   ],
   "source": [
    "def print_order_statistics(order_statistics):\n",
    "    \"\"\"Summary\"\"\"\n",
    "    print('The total number of unique products in the order were:', order_statistics[0])\n",
    "    print('''The percentage of products ordered compared \n",
    "to the total unique products was:''',order_statistics[1])\n",
    "\n",
    "print_order_statistics(order_statistics)"
   ]
  },
  {
   "cell_type": "code",
   "execution_count": null,
   "id": "c9bad977",
   "metadata": {},
   "outputs": [],
   "source": [
    "print('The total number of products in the order were:',len(customer_orders))\n",
    "print('''The percentage of products ordered compared \n",
    "to the total available products was:''' ,100*(len(customer_orders)/sum(inventory.values())))\n"
   ]
  },
  {
   "cell_type": "code",
   "execution_count": 19,
   "id": "f2bfb126",
   "metadata": {},
   "outputs": [
    {
     "name": "stdout",
     "output_type": "stream",
     "text": [
      "The current available inventory is: {'t-shirt': 5, 'mug': 6, 'hat': 8, 'book': 9, 'keychain': 10}\n"
     ]
    }
   ],
   "source": [
    "def print_updated_inventory(inventory):\n",
    "    \"\"\"Summary\"\"\"\n",
    "    print('The current available inventory is:', inventory)\n",
    "\n",
    "print_updated_inventory(inventory)"
   ]
  },
  {
   "cell_type": "code",
   "execution_count": null,
   "id": "91271d19",
   "metadata": {},
   "outputs": [],
   "source": []
  }
 ],
 "metadata": {
  "kernelspec": {
   "display_name": "Python 3 (ipykernel)",
   "language": "python",
   "name": "python3"
  },
  "language_info": {
   "codemirror_mode": {
    "name": "ipython",
    "version": 3
   },
   "file_extension": ".py",
   "mimetype": "text/x-python",
   "name": "python",
   "nbconvert_exporter": "python",
   "pygments_lexer": "ipython3",
   "version": "3.11.5"
  }
 },
 "nbformat": 4,
 "nbformat_minor": 5
}
